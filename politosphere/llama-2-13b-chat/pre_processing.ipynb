{
 "cells": [
  {
   "cell_type": "code",
   "execution_count": 5,
   "metadata": {},
   "outputs": [
    {
     "name": "stderr",
     "output_type": "stream",
     "text": [
      "Downloading data files: 100%|██████████| 1/1 [00:00<00:00, 1266.40it/s]\n",
      "Extracting data files: 100%|██████████| 1/1 [00:00<00:00, 214.26it/s]\n",
      "Generating train split: 113 examples [00:00, 5788.99 examples/s]\n"
     ]
    }
   ],
   "source": [
    "from datasets import load_dataset\n",
    "\n",
    "dataset = load_dataset(\"json\", data_files=\"../../data/daccord_yifei_v2_leo_supp_anti_oth.json\", split=\"train\")"
   ]
  },
  {
   "cell_type": "code",
   "execution_count": 6,
   "metadata": {},
   "outputs": [
    {
     "data": {
      "text/plain": [
       "113"
      ]
     },
     "execution_count": 6,
     "metadata": {},
     "output_type": "execute_result"
    }
   ],
   "source": [
    "len(dataset)"
   ]
  },
  {
   "cell_type": "code",
   "execution_count": 7,
   "metadata": {},
   "outputs": [
    {
     "data": {
      "text/plain": [
       "{'id': 'f4acjs9',\n",
       " 'body_cleaned': 'as a federal leo , the very idea of confiscating guns is laughable . i swore an oath to the constitution , not to beto or any other politician .',\n",
       " 'User label': 'support gun',\n",
       " 'author': 'MDeXY',\n",
       " 'subreddit': 'progun',\n",
       " 'predicted_community': 0,\n",
       " 'score': 454,\n",
       " 'created_utc': 1571492410}"
      ]
     },
     "execution_count": 7,
     "metadata": {},
     "output_type": "execute_result"
    }
   ],
   "source": [
    "dataset[0]"
   ]
  },
  {
   "cell_type": "code",
   "execution_count": 8,
   "metadata": {},
   "outputs": [
    {
     "data": {
      "text/plain": [
       "Counter({'other': 62, 'support gun': 27, 'anti gun': 24})"
      ]
     },
     "execution_count": 8,
     "metadata": {},
     "output_type": "execute_result"
    }
   ],
   "source": [
    "from collections import Counter\n",
    "Counter(dataset[\"User label\"])"
   ]
  },
  {
   "cell_type": "code",
   "execution_count": 9,
   "metadata": {},
   "outputs": [],
   "source": [
    "def convert_into_prompt_template(system_prompt, user_message, train=True, label_text=\"\"):\n",
    "    if train:\n",
    "        text = f\"<s>[INST] <<SYS>>\\n{system_prompt}\\n<</SYS>>\\n\\nSentence: {user_message}\\nUser label: [/INST] {label_text} </s>\"\n",
    "    else:\n",
    "        text = f\"<s>[INST] <<SYS>>\\n{system_prompt}\\n<</SYS>>\\n\\nSentence: {user_message}\\nUser label: [/INST] \"\n",
    "\n",
    "    return text"
   ]
  },
  {
   "cell_type": "code",
   "execution_count": 10,
   "metadata": {},
   "outputs": [],
   "source": [
    "system_prompt_with_definition = \"\"\"You are a sentence sentiment polarity classification assistant about gun control. And here are definitions of labels: \\\n",
    "Support Gun: Explicitly opposes gun ownership or is in favor of legal policies such as banning guns and confiscating personal guns. \\\n",
    "Anti Gun: Explicitly in favor of individual gun ownership, or against gun bans and gun confiscation. \\\n",
    "Neutral: The statement is centered around the debate on gun control, but there is no clear opinion expressed. \\\n",
    "Not Relevant: Don't have any obvious relationship to guns. \\\n",
    "Not Sure: The sentence statements are describing gun support for owning / banning guns, but due to a lack of relevant context, or some other reason, we can sense the emotional inclination, but not the specific opinion or polarized aspect. \\\n",
    "And the sentences are considered as polarized if they are or about antagonizing statements / hostility / belittling / animosity: 'us vs them',  inter-group antagonism, radicalization, conflictive confrontation, and so on. \\\n",
    "the sentences are considered as non-polarized if they are or aboutc onstructive civic conversation, bring together to a common ground, peaceful dialogue, and so on. \\\n",
    "Please classify the sentiment polarity of the following sentence about gun support into one of the following categories: \\\n",
    "'Support Gun Polarized', 'Support Gun non-Polarized', 'Neutral', 'Anti Gun Polarized', 'Anti Gun non-Polarized', 'Not relevant' or 'Not Sure'.\"\"\"\n",
    "\n",
    "system_prompt = \"\"\"You are a sentence sentiment polarity classification assistant about gun control. \\\n",
    "Please classify the sentiment polarity of the following sentence about gun support into one of the following categories: \\\n",
    "'Support Gun Polarized', 'Support Gun non-Polarized', 'Neutral', 'Anti Gun Polarized', 'Anti Gun non-Polarized', 'Not relevant' or 'Not Sure'.\"\"\"\n",
    "\n",
    "sp_pol_unpol_oth = \"\"\"You are a sentence sentiment polarity classification assistant about gun control. And here are definitions of labels:\\\n",
    "Polarized: The sentences are considered as 'polarized' if they are or about antagonizing statements / hostility / belittling / animosity: 'us vs them', inter-group antagonism, radicalization, conflictive confrontation, \\\n",
    "closed to contradiction, trolling, affective, ideological, bad faith, with cognitive bias, with social or demographic bias, irony, sarcasm, hate speech, offensive, toxic, fake news, dismiss language, stereotypes and so on.\\\n",
    "Unpolarized: The sentences are considered as 'unpolarized' if they are or about constructive civic conversation, bring together to a common ground, peaceful dialogue, open-minded demeanour focused on learning and forming opinions, \\\n",
    "genuinely open to contradiction, open exchange of ideas, educational, humble, good faith and so on.\\\n",
    "Other: The sentences are considered as 'other' if they not polarized or unpolarized or hard to tell.\\\n",
    "Please classify the sentiment polarity of the following sentence about gun support into one of the following categories: \\\n",
    "'polarized', 'unpolarized' or 'other'.\"\"\"\n",
    "\n",
    "sp_pro_anti_oth = \"\"\"You are a sentence sentiment political tendency classification assistant about gun control. And here are definitions of labels: \\\n",
    "Support Gun: The sentences are considered as 'support gun' if they are explicitly in favor of individual gun ownership, or against gun bans and gun confiscation. \\\n",
    "Anti Gun: The sentences are considered as 'anti gun' if they are explicitly opposes gun ownership or are in favor of legal policies such as banning guns and confiscating personal guns. \\\n",
    "Other: The sentences are considered as 'other' if they are not 'support gun' or 'anti gun' or hard to tell or not relevent to gun control. \\\n",
    "Please classify the sentiment political tendency of the following sentence about gun support into one of the following categories: \\\n",
    "'support gun', 'anti gun' or 'other'.\"\"\"\n",
    "\n",
    "\n",
    "complete_sentence = convert_into_prompt_template(\n",
    "    system_prompt=sp_pro_anti_oth,\n",
    "    user_message=dataset[0]['body_cleaned'],\n",
    "    train=True, \n",
    "    label_text=dataset[0]['User label'],\n",
    ")"
   ]
  },
  {
   "cell_type": "code",
   "execution_count": 11,
   "metadata": {},
   "outputs": [
    {
     "data": {
      "text/plain": [
       "162"
      ]
     },
     "execution_count": 11,
     "metadata": {},
     "output_type": "execute_result"
    }
   ],
   "source": [
    "len(complete_sentence.split(\" \"))"
   ]
  },
  {
   "cell_type": "code",
   "execution_count": 12,
   "metadata": {},
   "outputs": [],
   "source": [
    "def map_dataset(system_prompt, dataset, train=True):\n",
    "    # Convert the dataset into the format required by the model\n",
    "    def convert(sentence, label_text):\n",
    "        converted_inputs = convert_into_prompt_template(system_prompt, sentence, train, label_text)\n",
    "        return {'text': converted_inputs, 'label_text': label_text}\n",
    "\n",
    "    return dataset.map(convert, input_columns=['body_cleaned', 'User label'], batched=False, remove_columns=['id', 'body_cleaned', 'User label', 'author', 'subreddit', 'predicted_community', 'score', 'created_utc'])"
   ]
  },
  {
   "cell_type": "code",
   "execution_count": 13,
   "metadata": {},
   "outputs": [
    {
     "name": "stderr",
     "output_type": "stream",
     "text": [
      "Map:   0%|          | 0/113 [00:00<?, ? examples/s]"
     ]
    },
    {
     "name": "stderr",
     "output_type": "stream",
     "text": [
      "Map: 100%|██████████| 113/113 [00:00<00:00, 2027.69 examples/s]\n",
      "Map: 100%|██████████| 113/113 [00:00<00:00, 2389.90 examples/s]\n"
     ]
    }
   ],
   "source": [
    "new_dataset = map_dataset(sp_pro_anti_oth, dataset, train=True)\n",
    "new_validation_dataset = map_dataset(sp_pro_anti_oth, dataset, train=False)"
   ]
  },
  {
   "cell_type": "code",
   "execution_count": 14,
   "metadata": {},
   "outputs": [
    {
     "name": "stdout",
     "output_type": "stream",
     "text": [
      "<s>[INST] <<SYS>>\n",
      "You are a sentence sentiment political tendency classification assistant about gun control. And here are definitions of labels: Support Gun: The sentences are considered as 'support gun' if they are explicitly in favor of individual gun ownership, or against gun bans and gun confiscation. Anti Gun: The sentences are considered as 'anti gun' if they are explicitly opposes gun ownership or are in favor of legal policies such as banning guns and confiscating personal guns. Other: The sentences are considered as 'other' if they are not 'support gun' or 'anti gun' or hard to tell or not relevent to gun control. Please classify the sentiment political tendency of the following sentence about gun support into one of the following categories: 'support gun', 'anti gun' or 'other'.\n",
      "<</SYS>>\n",
      "\n",
      "Sentence: as a federal leo , the very idea of confiscating guns is laughable . i swore an oath to the constitution , not to beto or any other politician .\n",
      "User label: [/INST] support gun </s>\n"
     ]
    }
   ],
   "source": [
    "print(new_dataset[0]['text'])"
   ]
  },
  {
   "cell_type": "code",
   "execution_count": 15,
   "metadata": {},
   "outputs": [
    {
     "name": "stdout",
     "output_type": "stream",
     "text": [
      "<s>[INST] <<SYS>>\n",
      "You are a sentence sentiment political tendency classification assistant about gun control. And here are definitions of labels: Support Gun: The sentences are considered as 'support gun' if they are explicitly in favor of individual gun ownership, or against gun bans and gun confiscation. Anti Gun: The sentences are considered as 'anti gun' if they are explicitly opposes gun ownership or are in favor of legal policies such as banning guns and confiscating personal guns. Other: The sentences are considered as 'other' if they are not 'support gun' or 'anti gun' or hard to tell or not relevent to gun control. Please classify the sentiment political tendency of the following sentence about gun support into one of the following categories: 'support gun', 'anti gun' or 'other'.\n",
      "<</SYS>>\n",
      "\n",
      "Sentence: as a federal leo , the very idea of confiscating guns is laughable . i swore an oath to the constitution , not to beto or any other politician .\n",
      "User label: [/INST] \n"
     ]
    }
   ],
   "source": [
    "print(new_validation_dataset[0]['text'])"
   ]
  },
  {
   "cell_type": "code",
   "execution_count": 16,
   "metadata": {},
   "outputs": [],
   "source": [
    "from datasets import DatasetDict\n",
    "\n",
    "dataset_to_upload = DatasetDict({\n",
    "    'train': new_dataset,\n",
    "    'validation': new_validation_dataset\n",
    "})"
   ]
  },
  {
   "cell_type": "code",
   "execution_count": 17,
   "metadata": {},
   "outputs": [
    {
     "data": {
      "text/plain": [
       "DatasetDict({\n",
       "    train: Dataset({\n",
       "        features: ['text', 'label_text'],\n",
       "        num_rows: 113\n",
       "    })\n",
       "    validation: Dataset({\n",
       "        features: ['text', 'label_text'],\n",
       "        num_rows: 113\n",
       "    })\n",
       "})"
      ]
     },
     "execution_count": 17,
     "metadata": {},
     "output_type": "execute_result"
    }
   ],
   "source": [
    "dataset_to_upload"
   ]
  },
  {
   "cell_type": "code",
   "execution_count": 18,
   "metadata": {},
   "outputs": [
    {
     "name": "stderr",
     "output_type": "stream",
     "text": [
      "Creating parquet from Arrow format: 100%|██████████| 1/1 [00:00<00:00, 94.87ba/s]\n",
      "Pushing dataset shards to the dataset hub: 100%|██████████| 1/1 [00:01<00:00,  1.21s/it]\n",
      "Deleting unused files from dataset repository: 100%|██████████| 1/1 [00:00<00:00,  4.60it/s]\n",
      "Creating parquet from Arrow format: 100%|██████████| 1/1 [00:00<00:00, 331.09ba/s]\n",
      "Pushing dataset shards to the dataset hub: 100%|██████████| 1/1 [00:01<00:00,  1.14s/it]\n",
      "Deleting unused files from dataset repository: 100%|██████████| 1/1 [00:00<00:00,  4.87it/s]\n",
      "Downloading metadata: 100%|██████████| 622/622 [00:00<00:00, 845kB/s]\n"
     ]
    }
   ],
   "source": [
    "dataset_to_upload.push_to_hub(\"OneFly7/llama2-politosphere-fine-tuning-supp-anti-oth\")"
   ]
  },
  {
   "cell_type": "code",
   "execution_count": null,
   "metadata": {},
   "outputs": [],
   "source": []
  }
 ],
 "metadata": {
  "kernelspec": {
   "display_name": "llama2",
   "language": "python",
   "name": "python3"
  },
  "language_info": {
   "codemirror_mode": {
    "name": "ipython",
    "version": 3
   },
   "file_extension": ".py",
   "mimetype": "text/x-python",
   "name": "python",
   "nbconvert_exporter": "python",
   "pygments_lexer": "ipython3",
   "version": "3.10.9"
  },
  "orig_nbformat": 4
 },
 "nbformat": 4,
 "nbformat_minor": 2
}
